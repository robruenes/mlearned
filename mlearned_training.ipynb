{
  "nbformat": 4,
  "nbformat_minor": 0,
  "metadata": {
    "colab": {
      "provenance": [],
      "authorship_tag": "ABX9TyMcgwPijhH3wlRp8+qnYL4V",
      "include_colab_link": true
    },
    "kernelspec": {
      "name": "python3",
      "display_name": "Python 3"
    },
    "language_info": {
      "name": "python"
    }
  },
  "cells": [
    {
      "cell_type": "markdown",
      "metadata": {
        "id": "view-in-github",
        "colab_type": "text"
      },
      "source": [
        "<a href=\"https://colab.research.google.com/github/robruenes/mlearned/blob/main/mlearned_training.ipynb\" target=\"_parent\"><img src=\"https://colab.research.google.com/assets/colab-badge.svg\" alt=\"Open In Colab\"/></a>"
      ]
    },
    {
      "cell_type": "markdown",
      "source": [
        "# Import dependencies"
      ],
      "metadata": {
        "id": "vPg2thgJd8WC"
      }
    },
    {
      "cell_type": "code",
      "source": [
        "from google.colab import drive\n",
        "import pandas as pd\n",
        "import tensorflow as tf\n",
        "from sklearn.model_selection import train_test_split\n",
        "import numpy as np"
      ],
      "metadata": {
        "id": "xGk2v4gLd62F"
      },
      "execution_count": null,
      "outputs": []
    },
    {
      "cell_type": "markdown",
      "source": [
        "# Authorize drive"
      ],
      "metadata": {
        "id": "GNkYOSMOeAhn"
      }
    },
    {
      "cell_type": "code",
      "source": [
        "drive.mount('/content/drive')"
      ],
      "metadata": {
        "colab": {
          "base_uri": "https://localhost:8080/"
        },
        "id": "Ccp38yhNd_OP",
        "outputId": "2d6d9fd2-7eb7-42f3-ca7b-f6723c553a93"
      },
      "execution_count": null,
      "outputs": [
        {
          "output_type": "stream",
          "name": "stdout",
          "text": [
            "Mounted at /content/drive\n"
          ]
        }
      ]
    },
    {
      "cell_type": "markdown",
      "source": [
        "# Read in full dataset"
      ],
      "metadata": {
        "id": "ViFu8lZ6eEy4"
      }
    },
    {
      "cell_type": "code",
      "execution_count": null,
      "metadata": {
        "id": "ROsXbV18z7Jj"
      },
      "outputs": [],
      "source": [
        "training_set_path = '/content/drive/My Drive/mlearned/training_set.csv'\n",
        "df = pd.read_csv(training_set_path, sep='\\t', encoding='utf-8')\n",
        "# Brand new players haven't answered questions in every category yet,\n",
        "# leading to some nulls in the dataset.\n",
        "df = df.dropna()\n",
        "\n",
        "X_all_cols = df.drop(['Result'], axis=1)\n",
        "X_fewer_cols = X_all_cols.drop([\n",
        "    'Wins', 'Losses', 'Ties', 'Points in Standings',\n",
        "    'Match Points Differential', 'Total Match Points','Total Correct Answers',\n",
        "    'Total Points Allowed', 'Correct Answers Allowed','Unforced Points Allowed',\n",
        "    'Defensive Efficiency', 'Wins by Forfeit', 'Losses by Forfeit',\n",
        "    '3 point questions answered correctly'],\n",
        "    axis=1)\n",
        "y = df[\"Result\"]\n",
        "\n",
        "# Create training and test sets.\n",
        "Xa_train, Xa_test, ya_train, ya_test = train_test_split(X_all_cols, y, test_size=0.3, random_state=42)\n",
        "\n",
        "Xs_train, Xs_test, ys_train, ys_test = train_test_split(X_fewer_cols, y, test_size=0.3, random_state=42)"
      ]
    },
    {
      "cell_type": "markdown",
      "source": [
        "# Train models"
      ],
      "metadata": {
        "id": "1m4gIY-CefCs"
      }
    },
    {
      "cell_type": "code",
      "source": [
        "model_s = tf.keras.Sequential([\n",
        "    tf.keras.layers.Dense(50, activation='relu'),\n",
        "    tf.keras.layers.Dense(10, activation='relu'),\n",
        "    tf.keras.layers.Dense(3, activation='linear')])\n",
        "\n",
        "model_s.compile(optimizer=tf.keras.optimizers.Adam(learning_rate=0.001),\n",
        "              loss=tf.keras.losses.SparseCategoricalCrossentropy(from_logits=True))\n",
        "\n",
        "model_s.fit(Xs_train, ys_train, epochs=100, validation_split=0.2)"
      ],
      "metadata": {
        "colab": {
          "base_uri": "https://localhost:8080/"
        },
        "id": "xPetnuj01jS3",
        "outputId": "490593fb-80a0-484d-8d3c-52f53b2eccd3"
      },
      "execution_count": null,
      "outputs": [
        {
          "output_type": "stream",
          "name": "stdout",
          "text": [
            "Epoch 1/100\n",
            "300/300 [==============================] - 2s 3ms/step - loss: 1.0222 - val_loss: 1.0128\n",
            "Epoch 2/100\n",
            "300/300 [==============================] - 1s 2ms/step - loss: 1.0029 - val_loss: 1.0095\n",
            "Epoch 3/100\n",
            "300/300 [==============================] - 1s 2ms/step - loss: 0.9985 - val_loss: 1.0081\n",
            "Epoch 4/100\n",
            "300/300 [==============================] - 1s 2ms/step - loss: 0.9952 - val_loss: 1.0057\n",
            "Epoch 5/100\n",
            "300/300 [==============================] - 1s 2ms/step - loss: 0.9938 - val_loss: 1.0067\n",
            "Epoch 6/100\n",
            "300/300 [==============================] - 1s 3ms/step - loss: 0.9918 - val_loss: 1.0082\n",
            "Epoch 7/100\n",
            "300/300 [==============================] - 1s 3ms/step - loss: 0.9904 - val_loss: 1.0043\n",
            "Epoch 8/100\n",
            "300/300 [==============================] - 1s 3ms/step - loss: 0.9885 - val_loss: 1.0054\n",
            "Epoch 9/100\n",
            "300/300 [==============================] - 1s 3ms/step - loss: 0.9857 - val_loss: 1.0035\n",
            "Epoch 10/100\n",
            "300/300 [==============================] - 1s 3ms/step - loss: 0.9850 - val_loss: 1.0053\n",
            "Epoch 11/100\n",
            "300/300 [==============================] - 1s 2ms/step - loss: 0.9839 - val_loss: 1.0028\n",
            "Epoch 12/100\n",
            "300/300 [==============================] - 1s 2ms/step - loss: 0.9815 - val_loss: 1.0060\n",
            "Epoch 13/100\n",
            "300/300 [==============================] - 1s 2ms/step - loss: 0.9818 - val_loss: 1.0065\n",
            "Epoch 14/100\n",
            "300/300 [==============================] - 1s 2ms/step - loss: 0.9779 - val_loss: 1.0072\n",
            "Epoch 15/100\n",
            "300/300 [==============================] - 1s 2ms/step - loss: 0.9786 - val_loss: 1.0055\n",
            "Epoch 16/100\n",
            "300/300 [==============================] - 1s 2ms/step - loss: 0.9750 - val_loss: 1.0047\n",
            "Epoch 17/100\n",
            "300/300 [==============================] - 1s 2ms/step - loss: 0.9756 - val_loss: 1.0060\n",
            "Epoch 18/100\n",
            "300/300 [==============================] - 1s 2ms/step - loss: 0.9726 - val_loss: 1.0069\n",
            "Epoch 19/100\n",
            "300/300 [==============================] - 1s 2ms/step - loss: 0.9716 - val_loss: 1.0102\n",
            "Epoch 20/100\n",
            "300/300 [==============================] - 1s 2ms/step - loss: 0.9687 - val_loss: 1.0166\n",
            "Epoch 21/100\n",
            "300/300 [==============================] - 1s 2ms/step - loss: 0.9699 - val_loss: 1.0105\n",
            "Epoch 22/100\n",
            "300/300 [==============================] - 1s 2ms/step - loss: 0.9676 - val_loss: 1.0089\n",
            "Epoch 23/100\n",
            "300/300 [==============================] - 1s 2ms/step - loss: 0.9655 - val_loss: 1.0108\n",
            "Epoch 24/100\n",
            "300/300 [==============================] - 1s 2ms/step - loss: 0.9635 - val_loss: 1.0127\n",
            "Epoch 25/100\n",
            "300/300 [==============================] - 1s 3ms/step - loss: 0.9629 - val_loss: 1.0124\n",
            "Epoch 26/100\n",
            "300/300 [==============================] - 1s 3ms/step - loss: 0.9622 - val_loss: 1.0212\n",
            "Epoch 27/100\n",
            "300/300 [==============================] - 1s 3ms/step - loss: 0.9605 - val_loss: 1.0153\n",
            "Epoch 28/100\n",
            "300/300 [==============================] - 1s 4ms/step - loss: 0.9581 - val_loss: 1.0147\n",
            "Epoch 29/100\n",
            "300/300 [==============================] - 1s 2ms/step - loss: 0.9565 - val_loss: 1.0144\n",
            "Epoch 30/100\n",
            "300/300 [==============================] - 1s 2ms/step - loss: 0.9543 - val_loss: 1.0153\n",
            "Epoch 31/100\n",
            "300/300 [==============================] - 1s 2ms/step - loss: 0.9528 - val_loss: 1.0362\n",
            "Epoch 32/100\n",
            "300/300 [==============================] - 1s 2ms/step - loss: 0.9526 - val_loss: 1.0212\n",
            "Epoch 33/100\n",
            "300/300 [==============================] - 1s 2ms/step - loss: 0.9509 - val_loss: 1.0189\n",
            "Epoch 34/100\n",
            "300/300 [==============================] - 1s 2ms/step - loss: 0.9489 - val_loss: 1.0209\n",
            "Epoch 35/100\n",
            "300/300 [==============================] - 1s 2ms/step - loss: 0.9472 - val_loss: 1.0202\n",
            "Epoch 36/100\n",
            "300/300 [==============================] - 1s 2ms/step - loss: 0.9460 - val_loss: 1.0209\n",
            "Epoch 37/100\n",
            "300/300 [==============================] - 1s 2ms/step - loss: 0.9442 - val_loss: 1.0336\n",
            "Epoch 38/100\n",
            "300/300 [==============================] - 1s 2ms/step - loss: 0.9459 - val_loss: 1.0283\n",
            "Epoch 39/100\n",
            "300/300 [==============================] - 1s 2ms/step - loss: 0.9424 - val_loss: 1.0238\n",
            "Epoch 40/100\n",
            "300/300 [==============================] - 1s 2ms/step - loss: 0.9407 - val_loss: 1.0262\n",
            "Epoch 41/100\n",
            "300/300 [==============================] - 1s 2ms/step - loss: 0.9394 - val_loss: 1.0362\n",
            "Epoch 42/100\n",
            "300/300 [==============================] - 1s 2ms/step - loss: 0.9378 - val_loss: 1.0319\n",
            "Epoch 43/100\n",
            "300/300 [==============================] - 1s 3ms/step - loss: 0.9378 - val_loss: 1.0312\n",
            "Epoch 44/100\n",
            "300/300 [==============================] - 1s 3ms/step - loss: 0.9379 - val_loss: 1.0266\n",
            "Epoch 45/100\n",
            "300/300 [==============================] - 1s 3ms/step - loss: 0.9359 - val_loss: 1.0273\n",
            "Epoch 46/100\n",
            "300/300 [==============================] - 1s 4ms/step - loss: 0.9342 - val_loss: 1.0322\n",
            "Epoch 47/100\n",
            "300/300 [==============================] - 1s 3ms/step - loss: 0.9333 - val_loss: 1.0345\n",
            "Epoch 48/100\n",
            "300/300 [==============================] - 1s 2ms/step - loss: 0.9328 - val_loss: 1.0346\n",
            "Epoch 49/100\n",
            "300/300 [==============================] - 1s 2ms/step - loss: 0.9307 - val_loss: 1.0349\n",
            "Epoch 50/100\n",
            "300/300 [==============================] - 1s 2ms/step - loss: 0.9298 - val_loss: 1.0366\n",
            "Epoch 51/100\n",
            "300/300 [==============================] - 1s 3ms/step - loss: 0.9286 - val_loss: 1.0378\n",
            "Epoch 52/100\n",
            "300/300 [==============================] - 1s 2ms/step - loss: 0.9280 - val_loss: 1.0351\n",
            "Epoch 53/100\n",
            "300/300 [==============================] - 1s 2ms/step - loss: 0.9268 - val_loss: 1.0454\n",
            "Epoch 54/100\n",
            "300/300 [==============================] - 1s 2ms/step - loss: 0.9246 - val_loss: 1.0489\n",
            "Epoch 55/100\n",
            "300/300 [==============================] - 1s 2ms/step - loss: 0.9242 - val_loss: 1.0496\n",
            "Epoch 56/100\n",
            "300/300 [==============================] - 1s 2ms/step - loss: 0.9238 - val_loss: 1.0373\n",
            "Epoch 57/100\n",
            "300/300 [==============================] - 1s 2ms/step - loss: 0.9225 - val_loss: 1.0400\n",
            "Epoch 58/100\n",
            "300/300 [==============================] - 1s 2ms/step - loss: 0.9215 - val_loss: 1.0351\n",
            "Epoch 59/100\n",
            "300/300 [==============================] - 1s 2ms/step - loss: 0.9218 - val_loss: 1.0424\n",
            "Epoch 60/100\n",
            "300/300 [==============================] - 1s 2ms/step - loss: 0.9198 - val_loss: 1.0435\n",
            "Epoch 61/100\n",
            "300/300 [==============================] - 1s 3ms/step - loss: 0.9188 - val_loss: 1.0418\n",
            "Epoch 62/100\n",
            "300/300 [==============================] - 1s 3ms/step - loss: 0.9183 - val_loss: 1.0388\n",
            "Epoch 63/100\n",
            "300/300 [==============================] - 1s 3ms/step - loss: 0.9174 - val_loss: 1.0480\n",
            "Epoch 64/100\n",
            "300/300 [==============================] - 1s 3ms/step - loss: 0.9160 - val_loss: 1.0444\n",
            "Epoch 65/100\n",
            "300/300 [==============================] - 1s 3ms/step - loss: 0.9140 - val_loss: 1.0526\n",
            "Epoch 66/100\n",
            "300/300 [==============================] - 1s 2ms/step - loss: 0.9157 - val_loss: 1.0430\n",
            "Epoch 67/100\n",
            "300/300 [==============================] - 1s 2ms/step - loss: 0.9135 - val_loss: 1.0492\n",
            "Epoch 68/100\n",
            "300/300 [==============================] - 1s 2ms/step - loss: 0.9118 - val_loss: 1.0458\n",
            "Epoch 69/100\n",
            "300/300 [==============================] - 1s 2ms/step - loss: 0.9118 - val_loss: 1.0559\n",
            "Epoch 70/100\n",
            "300/300 [==============================] - 1s 2ms/step - loss: 0.9103 - val_loss: 1.0570\n",
            "Epoch 71/100\n",
            "300/300 [==============================] - 1s 2ms/step - loss: 0.9095 - val_loss: 1.0499\n",
            "Epoch 72/100\n",
            "300/300 [==============================] - 1s 2ms/step - loss: 0.9082 - val_loss: 1.0560\n",
            "Epoch 73/100\n",
            "300/300 [==============================] - 1s 2ms/step - loss: 0.9075 - val_loss: 1.0514\n",
            "Epoch 74/100\n",
            "300/300 [==============================] - 1s 2ms/step - loss: 0.9087 - val_loss: 1.0592\n",
            "Epoch 75/100\n",
            "300/300 [==============================] - 1s 2ms/step - loss: 0.9069 - val_loss: 1.0657\n",
            "Epoch 76/100\n",
            "300/300 [==============================] - 1s 2ms/step - loss: 0.9058 - val_loss: 1.0682\n",
            "Epoch 77/100\n",
            "300/300 [==============================] - 1s 2ms/step - loss: 0.9057 - val_loss: 1.0611\n",
            "Epoch 78/100\n",
            "300/300 [==============================] - 1s 2ms/step - loss: 0.9050 - val_loss: 1.0595\n",
            "Epoch 79/100\n",
            "300/300 [==============================] - 1s 2ms/step - loss: 0.9038 - val_loss: 1.0681\n",
            "Epoch 80/100\n",
            "300/300 [==============================] - 1s 4ms/step - loss: 0.9023 - val_loss: 1.0698\n",
            "Epoch 81/100\n",
            "300/300 [==============================] - 1s 4ms/step - loss: 0.9004 - val_loss: 1.0614\n",
            "Epoch 82/100\n",
            "300/300 [==============================] - 1s 4ms/step - loss: 0.8988 - val_loss: 1.0730\n",
            "Epoch 83/100\n",
            "300/300 [==============================] - 1s 3ms/step - loss: 0.9005 - val_loss: 1.0659\n",
            "Epoch 84/100\n",
            "300/300 [==============================] - 1s 2ms/step - loss: 0.8985 - val_loss: 1.0673\n",
            "Epoch 85/100\n",
            "300/300 [==============================] - 1s 2ms/step - loss: 0.8973 - val_loss: 1.0703\n",
            "Epoch 86/100\n",
            "300/300 [==============================] - 1s 2ms/step - loss: 0.8959 - val_loss: 1.0738\n",
            "Epoch 87/100\n",
            "300/300 [==============================] - 1s 2ms/step - loss: 0.8949 - val_loss: 1.0746\n",
            "Epoch 88/100\n",
            "300/300 [==============================] - 1s 2ms/step - loss: 0.8959 - val_loss: 1.0656\n",
            "Epoch 89/100\n",
            "300/300 [==============================] - 1s 2ms/step - loss: 0.8942 - val_loss: 1.0791\n",
            "Epoch 90/100\n",
            "300/300 [==============================] - 1s 2ms/step - loss: 0.8930 - val_loss: 1.0777\n",
            "Epoch 91/100\n",
            "300/300 [==============================] - 1s 2ms/step - loss: 0.8943 - val_loss: 1.0799\n",
            "Epoch 92/100\n",
            "300/300 [==============================] - 1s 2ms/step - loss: 0.8926 - val_loss: 1.0819\n",
            "Epoch 93/100\n",
            "300/300 [==============================] - 1s 2ms/step - loss: 0.8901 - val_loss: 1.0777\n",
            "Epoch 94/100\n",
            "300/300 [==============================] - 1s 2ms/step - loss: 0.8915 - val_loss: 1.0913\n",
            "Epoch 95/100\n",
            "300/300 [==============================] - 1s 2ms/step - loss: 0.8879 - val_loss: 1.0989\n",
            "Epoch 96/100\n",
            "300/300 [==============================] - 1s 2ms/step - loss: 0.8903 - val_loss: 1.0893\n",
            "Epoch 97/100\n",
            "300/300 [==============================] - 1s 3ms/step - loss: 0.8874 - val_loss: 1.0869\n",
            "Epoch 98/100\n",
            "300/300 [==============================] - 1s 3ms/step - loss: 0.8872 - val_loss: 1.0901\n",
            "Epoch 99/100\n",
            "300/300 [==============================] - 1s 3ms/step - loss: 0.8865 - val_loss: 1.0941\n",
            "Epoch 100/100\n",
            "300/300 [==============================] - 1s 3ms/step - loss: 0.8850 - val_loss: 1.0932\n"
          ]
        },
        {
          "output_type": "execute_result",
          "data": {
            "text/plain": [
              "<keras.src.callbacks.History at 0x78a736f99f00>"
            ]
          },
          "metadata": {},
          "execution_count": 59
        }
      ]
    },
    {
      "cell_type": "code",
      "source": [
        "model_a = tf.keras.Sequential([\n",
        "    tf.keras.layers.Dense(50, activation='relu'),\n",
        "    tf.keras.layers.Dense(10, activation='relu'),\n",
        "    tf.keras.layers.Dense(3, activation='linear')])\n",
        "\n",
        "model_a.compile(optimizer=tf.keras.optimizers.Adam(learning_rate=0.001),\n",
        "              loss=tf.keras.losses.SparseCategoricalCrossentropy(from_logits=True))\n",
        "\n",
        "model_a.fit(Xa_train, ya_train, epochs=100, validation_split=0.2)"
      ],
      "metadata": {
        "colab": {
          "base_uri": "https://localhost:8080/"
        },
        "id": "oXvRHJvIb0MD",
        "outputId": "0cdca102-b0e3-4f2a-810e-bdeaf9c4c517"
      },
      "execution_count": null,
      "outputs": [
        {
          "output_type": "stream",
          "name": "stdout",
          "text": [
            "Epoch 1/100\n",
            "300/300 [==============================] - 2s 5ms/step - loss: 4.1389 - val_loss: 4.3001\n",
            "Epoch 2/100\n",
            "300/300 [==============================] - 1s 3ms/step - loss: 3.0283 - val_loss: 3.5242\n",
            "Epoch 3/100\n",
            "300/300 [==============================] - 1s 2ms/step - loss: 2.4708 - val_loss: 1.5342\n",
            "Epoch 4/100\n",
            "300/300 [==============================] - 1s 2ms/step - loss: 2.4398 - val_loss: 3.3735\n",
            "Epoch 5/100\n",
            "300/300 [==============================] - 1s 2ms/step - loss: 2.1740 - val_loss: 4.4323\n",
            "Epoch 6/100\n",
            "300/300 [==============================] - 1s 2ms/step - loss: 2.0558 - val_loss: 2.3299\n",
            "Epoch 7/100\n",
            "300/300 [==============================] - 1s 2ms/step - loss: 1.7559 - val_loss: 1.9236\n",
            "Epoch 8/100\n",
            "300/300 [==============================] - 1s 2ms/step - loss: 1.9844 - val_loss: 3.8119\n",
            "Epoch 9/100\n",
            "300/300 [==============================] - 1s 2ms/step - loss: 2.1655 - val_loss: 1.8140\n",
            "Epoch 10/100\n",
            "300/300 [==============================] - 1s 2ms/step - loss: 1.7610 - val_loss: 4.4939\n",
            "Epoch 11/100\n",
            "300/300 [==============================] - 1s 2ms/step - loss: 1.9999 - val_loss: 2.7650\n",
            "Epoch 12/100\n",
            "300/300 [==============================] - 1s 2ms/step - loss: 1.9728 - val_loss: 1.6501\n",
            "Epoch 13/100\n",
            "300/300 [==============================] - 1s 2ms/step - loss: 2.1443 - val_loss: 1.3701\n",
            "Epoch 14/100\n",
            "300/300 [==============================] - 1s 2ms/step - loss: 1.5897 - val_loss: 1.2836\n",
            "Epoch 15/100\n",
            "300/300 [==============================] - 1s 2ms/step - loss: 2.0078 - val_loss: 1.9350\n",
            "Epoch 16/100\n",
            "300/300 [==============================] - 1s 2ms/step - loss: 1.7871 - val_loss: 2.6641\n",
            "Epoch 17/100\n",
            "300/300 [==============================] - 1s 3ms/step - loss: 1.5091 - val_loss: 1.9118\n",
            "Epoch 18/100\n",
            "300/300 [==============================] - 1s 3ms/step - loss: 1.4953 - val_loss: 2.0256\n",
            "Epoch 19/100\n",
            "300/300 [==============================] - 1s 3ms/step - loss: 1.8567 - val_loss: 1.9694\n",
            "Epoch 20/100\n",
            "300/300 [==============================] - 1s 3ms/step - loss: 1.7126 - val_loss: 1.8645\n",
            "Epoch 21/100\n",
            "300/300 [==============================] - 1s 3ms/step - loss: 1.5883 - val_loss: 1.2209\n",
            "Epoch 22/100\n",
            "300/300 [==============================] - 1s 2ms/step - loss: 1.5666 - val_loss: 1.5073\n",
            "Epoch 23/100\n",
            "300/300 [==============================] - 1s 2ms/step - loss: 1.5670 - val_loss: 1.8213\n",
            "Epoch 24/100\n",
            "300/300 [==============================] - 1s 2ms/step - loss: 1.5451 - val_loss: 2.6327\n",
            "Epoch 25/100\n",
            "300/300 [==============================] - 1s 2ms/step - loss: 1.6198 - val_loss: 2.9270\n",
            "Epoch 26/100\n",
            "300/300 [==============================] - 1s 2ms/step - loss: 1.2920 - val_loss: 1.0694\n",
            "Epoch 27/100\n",
            "300/300 [==============================] - 1s 2ms/step - loss: 1.3657 - val_loss: 2.4131\n",
            "Epoch 28/100\n",
            "300/300 [==============================] - 1s 2ms/step - loss: 1.5465 - val_loss: 1.6796\n",
            "Epoch 29/100\n",
            "300/300 [==============================] - 1s 2ms/step - loss: 1.4970 - val_loss: 1.5895\n",
            "Epoch 30/100\n",
            "300/300 [==============================] - 1s 2ms/step - loss: 1.6780 - val_loss: 2.1152\n",
            "Epoch 31/100\n",
            "300/300 [==============================] - 1s 2ms/step - loss: 1.3806 - val_loss: 2.2341\n",
            "Epoch 32/100\n",
            "300/300 [==============================] - 1s 2ms/step - loss: 1.4849 - val_loss: 1.1792\n",
            "Epoch 33/100\n",
            "300/300 [==============================] - 1s 2ms/step - loss: 1.6744 - val_loss: 1.6779\n",
            "Epoch 34/100\n",
            "300/300 [==============================] - 1s 2ms/step - loss: 1.2666 - val_loss: 1.9307\n",
            "Epoch 35/100\n",
            "300/300 [==============================] - 1s 2ms/step - loss: 1.3994 - val_loss: 1.1069\n",
            "Epoch 36/100\n",
            "300/300 [==============================] - 1s 3ms/step - loss: 1.3568 - val_loss: 2.6878\n",
            "Epoch 37/100\n",
            "300/300 [==============================] - 1s 3ms/step - loss: 1.4329 - val_loss: 1.8909\n",
            "Epoch 38/100\n",
            "300/300 [==============================] - 1s 3ms/step - loss: 1.4824 - val_loss: 1.7038\n",
            "Epoch 39/100\n",
            "300/300 [==============================] - 1s 3ms/step - loss: 1.3316 - val_loss: 1.3382\n",
            "Epoch 40/100\n",
            "300/300 [==============================] - 1s 2ms/step - loss: 1.2830 - val_loss: 1.4448\n",
            "Epoch 41/100\n",
            "300/300 [==============================] - 1s 2ms/step - loss: 1.3744 - val_loss: 1.5636\n",
            "Epoch 42/100\n",
            "300/300 [==============================] - 1s 2ms/step - loss: 1.4002 - val_loss: 1.3927\n",
            "Epoch 43/100\n",
            "300/300 [==============================] - 1s 2ms/step - loss: 1.2687 - val_loss: 1.6008\n",
            "Epoch 44/100\n",
            "300/300 [==============================] - 1s 2ms/step - loss: 1.3105 - val_loss: 1.1899\n",
            "Epoch 45/100\n",
            "300/300 [==============================] - 1s 2ms/step - loss: 1.3210 - val_loss: 1.1221\n",
            "Epoch 46/100\n",
            "300/300 [==============================] - 1s 3ms/step - loss: 1.3355 - val_loss: 1.2844\n",
            "Epoch 47/100\n",
            "300/300 [==============================] - 1s 2ms/step - loss: 1.1781 - val_loss: 1.4630\n",
            "Epoch 48/100\n",
            "300/300 [==============================] - 1s 2ms/step - loss: 1.2211 - val_loss: 1.9509\n",
            "Epoch 49/100\n",
            "300/300 [==============================] - 1s 2ms/step - loss: 1.2294 - val_loss: 1.4656\n",
            "Epoch 50/100\n",
            "300/300 [==============================] - 1s 2ms/step - loss: 1.2880 - val_loss: 1.1460\n",
            "Epoch 51/100\n",
            "300/300 [==============================] - 1s 2ms/step - loss: 1.1591 - val_loss: 1.0496\n",
            "Epoch 52/100\n",
            "300/300 [==============================] - 1s 2ms/step - loss: 1.2302 - val_loss: 1.4312\n",
            "Epoch 53/100\n",
            "300/300 [==============================] - 1s 2ms/step - loss: 1.1804 - val_loss: 1.0677\n",
            "Epoch 54/100\n",
            "300/300 [==============================] - 1s 4ms/step - loss: 1.2475 - val_loss: 1.3727\n",
            "Epoch 55/100\n",
            "300/300 [==============================] - 1s 3ms/step - loss: 1.2395 - val_loss: 1.0624\n",
            "Epoch 56/100\n",
            "300/300 [==============================] - 1s 3ms/step - loss: 1.2264 - val_loss: 1.0580\n",
            "Epoch 57/100\n",
            "300/300 [==============================] - 1s 4ms/step - loss: 1.1983 - val_loss: 1.1107\n",
            "Epoch 58/100\n",
            "300/300 [==============================] - 1s 2ms/step - loss: 1.2631 - val_loss: 1.0460\n",
            "Epoch 59/100\n",
            "300/300 [==============================] - 1s 2ms/step - loss: 1.1540 - val_loss: 1.0819\n",
            "Epoch 60/100\n",
            "300/300 [==============================] - 1s 2ms/step - loss: 1.0991 - val_loss: 1.0386\n",
            "Epoch 61/100\n",
            "300/300 [==============================] - 1s 2ms/step - loss: 1.1500 - val_loss: 1.2234\n",
            "Epoch 62/100\n",
            "300/300 [==============================] - 1s 2ms/step - loss: 1.1355 - val_loss: 1.0924\n",
            "Epoch 63/100\n",
            "300/300 [==============================] - 1s 2ms/step - loss: 1.1529 - val_loss: 1.0498\n",
            "Epoch 64/100\n",
            "300/300 [==============================] - 1s 2ms/step - loss: 1.1185 - val_loss: 1.2224\n",
            "Epoch 65/100\n",
            "300/300 [==============================] - 1s 2ms/step - loss: 1.1235 - val_loss: 1.1399\n",
            "Epoch 66/100\n",
            "300/300 [==============================] - 1s 2ms/step - loss: 1.1014 - val_loss: 1.0450\n",
            "Epoch 67/100\n",
            "300/300 [==============================] - 1s 2ms/step - loss: 1.0688 - val_loss: 1.0446\n",
            "Epoch 68/100\n",
            "300/300 [==============================] - 1s 2ms/step - loss: 1.0793 - val_loss: 1.3561\n",
            "Epoch 69/100\n",
            "300/300 [==============================] - 1s 2ms/step - loss: 1.0969 - val_loss: 1.3711\n",
            "Epoch 70/100\n",
            "300/300 [==============================] - 1s 2ms/step - loss: 1.0970 - val_loss: 1.1577\n",
            "Epoch 71/100\n",
            "300/300 [==============================] - 1s 2ms/step - loss: 1.0926 - val_loss: 1.0139\n",
            "Epoch 72/100\n",
            "300/300 [==============================] - 1s 3ms/step - loss: 1.0717 - val_loss: 1.0664\n",
            "Epoch 73/100\n",
            "300/300 [==============================] - 1s 3ms/step - loss: 1.0703 - val_loss: 1.1210\n",
            "Epoch 74/100\n",
            "300/300 [==============================] - 1s 3ms/step - loss: 1.0960 - val_loss: 1.1457\n",
            "Epoch 75/100\n",
            "300/300 [==============================] - 1s 4ms/step - loss: 1.0468 - val_loss: 1.0185\n",
            "Epoch 76/100\n",
            "300/300 [==============================] - 1s 2ms/step - loss: 1.0535 - val_loss: 1.0459\n",
            "Epoch 77/100\n",
            "300/300 [==============================] - 1s 2ms/step - loss: 1.0501 - val_loss: 1.0941\n",
            "Epoch 78/100\n",
            "300/300 [==============================] - 1s 2ms/step - loss: 1.0373 - val_loss: 1.0206\n",
            "Epoch 79/100\n",
            "300/300 [==============================] - 1s 2ms/step - loss: 1.0518 - val_loss: 1.0337\n",
            "Epoch 80/100\n",
            "300/300 [==============================] - 1s 2ms/step - loss: 1.0489 - val_loss: 1.0472\n",
            "Epoch 81/100\n",
            "300/300 [==============================] - 1s 2ms/step - loss: 1.0402 - val_loss: 1.0089\n",
            "Epoch 82/100\n",
            "300/300 [==============================] - 1s 2ms/step - loss: 1.0320 - val_loss: 1.0256\n",
            "Epoch 83/100\n",
            "300/300 [==============================] - 1s 2ms/step - loss: 1.0321 - val_loss: 1.0108\n",
            "Epoch 84/100\n",
            "300/300 [==============================] - 1s 2ms/step - loss: 1.0328 - val_loss: 1.0233\n",
            "Epoch 85/100\n",
            "300/300 [==============================] - 1s 2ms/step - loss: 1.0224 - val_loss: 1.0136\n",
            "Epoch 86/100\n",
            "300/300 [==============================] - 1s 2ms/step - loss: 1.0241 - val_loss: 1.0449\n",
            "Epoch 87/100\n",
            "300/300 [==============================] - 1s 2ms/step - loss: 1.0276 - val_loss: 1.0097\n",
            "Epoch 88/100\n",
            "300/300 [==============================] - 1s 2ms/step - loss: 1.0134 - val_loss: 1.0156\n",
            "Epoch 89/100\n",
            "300/300 [==============================] - 1s 2ms/step - loss: 1.0168 - val_loss: 1.0047\n",
            "Epoch 90/100\n",
            "300/300 [==============================] - 1s 3ms/step - loss: 1.0166 - val_loss: 1.0077\n",
            "Epoch 91/100\n",
            "300/300 [==============================] - 1s 4ms/step - loss: 1.0165 - val_loss: 1.0122\n",
            "Epoch 92/100\n",
            "300/300 [==============================] - 1s 4ms/step - loss: 1.0094 - val_loss: 1.0079\n",
            "Epoch 93/100\n",
            "300/300 [==============================] - 1s 4ms/step - loss: 1.0124 - val_loss: 1.0266\n",
            "Epoch 94/100\n",
            "300/300 [==============================] - 1s 2ms/step - loss: 1.0116 - val_loss: 1.0065\n",
            "Epoch 95/100\n",
            "300/300 [==============================] - 1s 2ms/step - loss: 1.0088 - val_loss: 1.0060\n",
            "Epoch 96/100\n",
            "300/300 [==============================] - 1s 3ms/step - loss: 1.0120 - val_loss: 1.0125\n",
            "Epoch 97/100\n",
            "300/300 [==============================] - 1s 2ms/step - loss: 1.0105 - val_loss: 1.0093\n",
            "Epoch 98/100\n",
            "300/300 [==============================] - 1s 2ms/step - loss: 1.0160 - val_loss: 1.0188\n",
            "Epoch 99/100\n",
            "300/300 [==============================] - 1s 2ms/step - loss: 1.0134 - val_loss: 1.0117\n",
            "Epoch 100/100\n",
            "300/300 [==============================] - 1s 2ms/step - loss: 1.0094 - val_loss: 1.0073\n"
          ]
        },
        {
          "output_type": "execute_result",
          "data": {
            "text/plain": [
              "<keras.src.callbacks.History at 0x78a736d0fd00>"
            ]
          },
          "metadata": {},
          "execution_count": 60
        }
      ]
    },
    {
      "cell_type": "markdown",
      "source": [
        "# Try the models out"
      ],
      "metadata": {
        "id": "1-QvWZvEgIjZ"
      }
    },
    {
      "cell_type": "code",
      "source": [
        "Xa_test = Xa_test.reset_index(drop=True)\n",
        "ya_test = ya_test.reset_index(drop=True)\n",
        "\n",
        "predicted_logits_a = model_a.predict(Xa_test)\n",
        "# Apply softmax and get the predicted category\n",
        "probabilities_a = tf.nn.softmax(predicted_logits_a)\n",
        "predicted_categories_a = tf.argmax(probabilities_a, axis=1)\n",
        "matches_a = 0.0\n",
        "total_entries_a = len(ya_test)\n",
        "for i in range(0, total_entries_a):\n",
        "  if ya_test[i] == predicted_categories_a[i]:\n",
        "    matches_a = matches_a + 1.0\n",
        "\n",
        "print(\"Accuracy: \", matches_a/float(total_entries_a))\n"
      ],
      "metadata": {
        "colab": {
          "base_uri": "https://localhost:8080/"
        },
        "id": "DX-KRauHgIAb",
        "outputId": "a5c96cf8-e884-498b-9ccc-e3da0a0bf051"
      },
      "execution_count": null,
      "outputs": [
        {
          "output_type": "stream",
          "name": "stdout",
          "text": [
            "161/161 [==============================] - 0s 2ms/step\n",
            "Accuracy:  0.4660042859925969\n"
          ]
        }
      ]
    },
    {
      "cell_type": "code",
      "source": [
        "Xs_test = Xs_test.reset_index(drop=True)\n",
        "ys_test = ys_test.reset_index(drop=True)\n",
        "\n",
        "predicted_logits_s = model_s.predict(Xs_test)\n",
        "# Apply softmax and get the predicted category\n",
        "probabilities_s = tf.nn.softmax(predicted_logits_s)\n",
        "predicted_categories_s = tf.argmax(probabilities_s, axis=1)\n",
        "matches_s = 0.0\n",
        "total_entries_s = len(ys_test)\n",
        "for i in range(0, total_entries_s):\n",
        "  if ys_test[i] == predicted_categories_s[i]:\n",
        "    matches_s = matches_s + 1.0\n",
        "\n",
        "print(\"Accuracy: \", matches_s/float(total_entries_s))\n"
      ],
      "metadata": {
        "colab": {
          "base_uri": "https://localhost:8080/"
        },
        "id": "t0WWSRgq2NLt",
        "outputId": "9481e0a4-0306-4307-e680-d95554e30db9"
      },
      "execution_count": null,
      "outputs": [
        {
          "output_type": "stream",
          "name": "stdout",
          "text": [
            "161/161 [==============================] - 0s 2ms/step\n",
            "Accuracy:  0.46697837521917007\n"
          ]
        }
      ]
    },
    {
      "cell_type": "code",
      "source": [
        "# Save models.\n",
        "model_a.save('/content/drive/My Drive/mlearned/model_a.keras')\n",
        "model_s.save('/content/drive/My Drive/mlearned/model_s.keras')"
      ],
      "metadata": {
        "id": "tYp3huJL4mi2"
      },
      "execution_count": null,
      "outputs": []
    }
  ]
}